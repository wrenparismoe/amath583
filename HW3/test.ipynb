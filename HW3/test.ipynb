{
 "cells": [
  {
   "cell_type": "code",
   "execution_count": 1,
   "metadata": {
    "vscode": {
     "languageId": "python"
    }
   },
   "outputs": [],
   "source": [
    "#include <iostream>"
   ]
  },
  {
   "cell_type": "code",
   "execution_count": 6,
   "metadata": {
    "vscode": {
     "languageId": "python"
    }
   },
   "outputs": [
    {
     "name": "stdout",
     "output_type": "stream",
     "text": [
      "2: 1\n",
      "4: 1\n",
      "8: 1\n",
      "16: 1\n",
      "32: 1\n",
      "64: 1\n",
      "128: 1\n",
      "256: 1\n",
      "512: 1\n",
      "1024: 1\n"
     ]
    }
   ],
   "source": [
    "bool power2;\n",
    "for (int n = 2; n < 1025; n++) {\n",
    "    // Check if n is a power of 2\n",
    "    power2 = ((n & (n - 1)) == 0);\n",
    "    if (power2) {\n",
    "        std::cout << n << \": \" << power2 << std::endl;\n",
    "    }\n",
    "}"
   ]
  },
  {
   "cell_type": "code",
   "execution_count": null,
   "metadata": {
    "vscode": {
     "languageId": "python"
    }
   },
   "outputs": [],
   "source": []
  }
 ],
 "metadata": {
  "kernelspec": {
   "display_name": "C++17",
   "language": "C++17",
   "name": "xcpp17"
  },
  "language_info": {
   "codemirror_mode": "text/x-c++src",
   "file_extension": ".cpp",
   "mimetype": "text/x-c++src",
   "name": "C++17",
   "version": "17"
  },
  "orig_nbformat": 4
 },
 "nbformat": 4,
 "nbformat_minor": 2
}
